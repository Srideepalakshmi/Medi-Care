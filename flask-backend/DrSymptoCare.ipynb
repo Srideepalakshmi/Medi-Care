{
 "cells": [
  {
   "cell_type": "code",
   "execution_count": 1,
   "id": "0a375a0d-0322-4754-ac2e-6af2b84c4f8d",
   "metadata": {},
   "outputs": [
    {
     "name": "stdout",
     "output_type": "stream",
     "text": [
      "['Domain', 'Type', 'Symptoms']\n"
     ]
    }
   ],
   "source": [
    "import pandas as pd\n",
    "data = pd.read_csv(\"medical_symptoms.csv\")\n",
    "print(data.columns.tolist())\n"
   ]
  },
  {
   "cell_type": "code",
   "execution_count": 3,
   "id": "bd7f1131-3ce0-4462-876f-1e3dbe73c931",
   "metadata": {},
   "outputs": [
    {
     "name": "stdout",
     "output_type": "stream",
     "text": [
      "Requirement already satisfied: joblib in c:\\users\\srideepalakshmi\\appdata\\local\\programs\\python\\python312\\lib\\site-packages (1.4.2)\n"
     ]
    }
   ],
   "source": [
    "!pip install joblib\n",
    "\n"
   ]
  },
  {
   "cell_type": "code",
   "execution_count": 2,
   "id": "af0c8f1f-701a-4b7e-8a63-9bf05f11986e",
   "metadata": {},
   "outputs": [
    {
     "name": "stdout",
     "output_type": "stream",
     "text": [
      "✅ Auto model loaded\n",
      "✅ medical_symptoms.csv loaded\n",
      " * Serving Flask app '__main__'\n",
      " * Debug mode: on\n"
     ]
    },
    {
     "name": "stderr",
     "output_type": "stream",
     "text": [
      "WARNING: This is a development server. Do not use it in a production deployment. Use a production WSGI server instead.\n",
      " * Running on http://127.0.0.1:5000\n",
      "Press CTRL+C to quit\n",
      " * Restarting with watchdog (windowsapi)\n"
     ]
    },
    {
     "ename": "SystemExit",
     "evalue": "1",
     "output_type": "error",
     "traceback": [
      "An exception has occurred, use %tb to see the full traceback.\n",
      "\u001b[31mSystemExit\u001b[39m\u001b[31m:\u001b[39m 1\n"
     ]
    },
    {
     "name": "stderr",
     "output_type": "stream",
     "text": [
      "C:\\Users\\SRIDEEPALAKSHMI\\AppData\\Local\\Programs\\Python\\Python312\\Lib\\site-packages\\IPython\\core\\interactiveshell.py:3557: UserWarning: To exit: use 'exit', 'quit', or Ctrl-D.\n",
      "  warn(\"To exit: use 'exit', 'quit', or Ctrl-D.\", stacklevel=1)\n"
     ]
    }
   ],
   "source": [
    "from flask import Flask, render_template, request, jsonify, session\n",
    "import pandas as pd\n",
    "import os\n",
    "import pickle\n",
    "\n",
    "app = Flask(__name__)\n",
    "app.secret_key = \"secret123\"  # for session management\n",
    "\n",
    "# Load the model and encoders\n",
    "model, mlb, label_encoder = None, None, None\n",
    "try:\n",
    "    with open(\"auto_model.pkl\", \"rb\") as f:\n",
    "        model, mlb, label_encoder = pickle.load(f)\n",
    "    print(\"✅ Auto model loaded\")\n",
    "except Exception as e:\n",
    "    print(\"❌ Failed to load ANN model:\", e)\n",
    "\n",
    "\n",
    "# Load medical_symptoms.csv\n",
    "df_symptoms = None\n",
    "try:\n",
    "    CSV_PATH = os.path.join(os.getcwd(), \"medical_symptoms.csv\")\n",
    "    df_symptoms = pd.read_csv(CSV_PATH)\n",
    "    print(\"✅ medical_symptoms.csv loaded\")\n",
    "except Exception as e:\n",
    "    print(\"❌ Failed to load medical_symptoms.csv:\", e)\n",
    "\n",
    "\n",
    "@app.route(\"/\")\n",
    "def home():\n",
    "    session.clear()\n",
    "    # Pass symptom list to HTML (optional)\n",
    "    symptoms = df_symptoms[\"Symptom\"].tolist() if df_symptoms is not None else []\n",
    "    return render_template(\"index.html\", symptoms=symptoms)\n",
    "\n",
    "@app.route(\"/chat\", methods=[\"POST\"])\n",
    "def chat():\n",
    "    user_input = request.form.get(\"message\", \"\").strip().lower()\n",
    "\n",
    "    if model is None:\n",
    "        return jsonify({\"reply\": \"⚠️ ANN model not available. Try again later.\"})\n",
    "\n",
    "    # Step 1: Ask for duration\n",
    "    if \"step\" not in session:\n",
    "        session[\"symptoms\"] = user_input\n",
    "        session[\"step\"] = \"ask_duration\"\n",
    "        return jsonify({\"reply\": \"🕒 How long have you been experiencing these symptoms?\"})\n",
    "\n",
    "    # Step 2: Ask for medical history\n",
    "    elif session[\"step\"] == \"ask_duration\":\n",
    "        session[\"duration\"] = user_input\n",
    "        session[\"step\"] = \"ask_history\"\n",
    "        return jsonify({\"reply\": \"🩺 Do you have any previous medical history? If yes, please mention.\"})\n",
    "\n",
    "    # Step 3: Predict disease\n",
    "    elif session[\"step\"] == \"ask_history\":\n",
    "        session[\"history\"] = user_input\n",
    "        symptoms_list = [s.strip() for s in session[\"symptoms\"].split(\",\")]\n",
    "\n",
    "        try:\n",
    "            input_vector = mlb.transform([symptoms_list])\n",
    "            prediction = model.predict(input_vector)\n",
    "            disease = label_encoder.inverse_transform(prediction)[0]\n",
    "\n",
    "            response = f\"\"\"\n",
    "            🩺 Based on the symptoms you’ve described ({session['symptoms']}),<br>\n",
    "            duration ({session['duration']}), and history ({session['history']}),<br>\n",
    "            you might be showing signs of: <strong>{disease}</strong>.<br><br>\n",
    "            I am not 100% sure since I’m an AI assistant 🤖. For more clarity, please visit our website or consult a certified doctor. 🏥\n",
    "            \"\"\"\n",
    "        except Exception as e:\n",
    "            response = f\"⚠️ Error while predicting disease: {str(e)}\"\n",
    "\n",
    "        session.clear()\n",
    "        return jsonify({\"reply\": response})\n",
    "\n",
    "    else:\n",
    "        session.clear()\n",
    "        return jsonify({\"reply\": \"🔄 Let's start again. Please tell me your symptoms (comma separated).\"})\n",
    "\n",
    "if __name__ == \"__main__\":\n",
    "    app.run(debug=True)\n"
   ]
  },
  {
   "cell_type": "code",
   "execution_count": null,
   "id": "0de89759-dd94-4393-9068-dccedff385be",
   "metadata": {},
   "outputs": [],
   "source": []
  }
 ],
 "metadata": {
  "kernelspec": {
   "display_name": "Python 3 (ipykernel)",
   "language": "python",
   "name": "python3"
  },
  "language_info": {
   "codemirror_mode": {
    "name": "ipython",
    "version": 3
   },
   "file_extension": ".py",
   "mimetype": "text/x-python",
   "name": "python",
   "nbconvert_exporter": "python",
   "pygments_lexer": "ipython3",
   "version": "3.12.5"
  }
 },
 "nbformat": 4,
 "nbformat_minor": 5
}
